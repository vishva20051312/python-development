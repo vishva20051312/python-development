{
 "cells": [
  {
   "cell_type": "code",
   "execution_count": null,
   "id": "a23b9509-88a1-452c-b6c4-28419b40eefc",
   "metadata": {},
   "outputs": [
    {
     "name": "stdout",
     "output_type": "stream",
     "text": [
      "Welcome to Tic-Tac-Toe!\n",
      "  |   |  \n",
      "-----\n",
      "  |   |  \n",
      "-----\n",
      "  |   |  \n"
     ]
    },
    {
     "name": "stdin",
     "output_type": "stream",
     "text": [
      "Player X, enter row (0-2):  0\n",
      "Player X, enter column (0-2):  2\n"
     ]
    },
    {
     "name": "stdout",
     "output_type": "stream",
     "text": [
      "  |   | X\n",
      "-----\n",
      "  |   |  \n",
      "-----\n",
      "  |   |  \n"
     ]
    }
   ],
   "source": [
    "# Tic-Tac-Toe Game in Python\n",
    "\n",
    "# Function to print the Tic-Tac-Toe board\n",
    "def print_board(board):\n",
    "    for i in range(3):\n",
    "        print(\" | \".join(board[i]))\n",
    "        if i < 2:\n",
    "            print(\"-\" * 5)\n",
    "\n",
    "# Function to check if the current player has won\n",
    "def check_win(board, player):\n",
    "    # Check rows, columns, and diagonals\n",
    "    for i in range(3):\n",
    "        if all([board[i][j] == player for j in range(3)]) or \\\n",
    "           all([board[j][i] == player for j in range(3)]):\n",
    "            return True\n",
    "    if board[0][0] == player and board[1][1] == player and board[2][2] == player:\n",
    "        return True\n",
    "    if board[0][2] == player and board[1][1] == player and board[2][0] == player:\n",
    "        return True\n",
    "    return False\n",
    "\n",
    "# Function to check if the board is full\n",
    "def is_full(board):\n",
    "    for row in board:\n",
    "        if \" \" in row:\n",
    "            return False\n",
    "    return True\n",
    "\n",
    "# Main function for the Tic-Tac-Toe game\n",
    "def tic_tac_toe():\n",
    "    # Initialize empty board\n",
    "    board = [[\" \" for _ in range(3)] for _ in range(3)]\n",
    "    players = [\"X\", \"O\"]\n",
    "    current_player = 0  # Start with player 'X'\n",
    "    \n",
    "    print(\"Welcome to Tic-Tac-Toe!\")\n",
    "    \n",
    "    while True:\n",
    "        print_board(board)\n",
    "        row = int(input(f\"Player {players[current_player]}, enter row (0-2): \"))\n",
    "        col = int(input(f\"Player {players[current_player]}, enter column (0-2): \"))\n",
    "        \n",
    "        # Check if the position is valid\n",
    "        if row < 0 or row > 2 or col < 0 or col > 2 or board[row][col] != \" \":\n",
    "            print(\"Invalid move, try again.\")\n",
    "            continue\n",
    "        \n",
    "        # Make the move\n",
    "        board[row][col] = players[current_player]\n",
    "        \n",
    "        # Check if the current player has won\n",
    "        if check_win(board, players[current_player]):\n",
    "            print_board(board)\n",
    "            print(f\"Player {players[current_player]} wins!\")\n",
    "            break\n",
    "        \n",
    "        # Check if the board is full (draw)\n",
    "        if is_full(board):\n",
    "            print_board(board)\n",
    "            print(\"It's a draw!\")\n",
    "            break\n",
    "        \n",
    "        # Switch players\n",
    "        current_player = 1 - current_player\n",
    "\n",
    "# Run the game\n",
    "if __name__ == \"__main__\":\n",
    "    tic_tac_toe()\n"
   ]
  },
  {
   "cell_type": "code",
   "execution_count": null,
   "id": "4c80f0ba-09ef-4f10-a858-d769b84ae7bb",
   "metadata": {},
   "outputs": [],
   "source": []
  }
 ],
 "metadata": {
  "kernelspec": {
   "display_name": "Python 3 (ipykernel)",
   "language": "python",
   "name": "python3"
  },
  "language_info": {
   "codemirror_mode": {
    "name": "ipython",
    "version": 3
   },
   "file_extension": ".py",
   "mimetype": "text/x-python",
   "name": "python",
   "nbconvert_exporter": "python",
   "pygments_lexer": "ipython3",
   "version": "3.12.7"
  }
 },
 "nbformat": 4,
 "nbformat_minor": 5
}
