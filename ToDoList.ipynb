{
 "cells": [
  {
   "cell_type": "code",
   "execution_count": null,
   "id": "fb140a88-8403-4423-8c10-f160aee66afd",
   "metadata": {},
   "outputs": [
    {
     "name": "stdout",
     "output_type": "stream",
     "text": [
      "\n",
      "To-Do List Menu:\n",
      "1. Add a task\n",
      "2. Remove a task\n",
      "3. View tasks\n",
      "4. Exit\n"
     ]
    },
    {
     "name": "stdin",
     "output_type": "stream",
     "text": [
      "Choose an option (1/2/3/4):  1\n",
      "Enter the task to add:  do homework\n"
     ]
    },
    {
     "name": "stdout",
     "output_type": "stream",
     "text": [
      "Task 'do homework' added.\n",
      "\n",
      "To-Do List Menu:\n",
      "1. Add a task\n",
      "2. Remove a task\n",
      "3. View tasks\n",
      "4. Exit\n"
     ]
    }
   ],
   "source": [
    "class ToDoList:\n",
    "    def __init__(self):\n",
    "        self.tasks = []\n",
    "\n",
    "    def add_task(self, task):\n",
    "        \"\"\"Add a task to the list.\"\"\"\n",
    "        self.tasks.append(task)\n",
    "        print(f\"Task '{task}' added.\")\n",
    "\n",
    "    def remove_task(self, task):\n",
    "        \"\"\"Remove a task from the list.\"\"\"\n",
    "        if task in self.tasks:\n",
    "            self.tasks.remove(task)\n",
    "            print(f\"Task '{task}' removed.\")\n",
    "        else:\n",
    "            print(f\"Task '{task}' not found.\")\n",
    "\n",
    "    def view_tasks(self):\n",
    "        \"\"\"Display all tasks in the list.\"\"\"\n",
    "        if self.tasks:\n",
    "            print(\"\\nYour To-Do List:\")\n",
    "            for index, task in enumerate(self.tasks, 1):\n",
    "                print(f\"{index}. {task}\")\n",
    "        else:\n",
    "            print(\"No tasks in your to-do list.\")\n",
    "\n",
    "def main():\n",
    "    todo = ToDoList()\n",
    "\n",
    "    while True:\n",
    "        print(\"\\nTo-Do List Menu:\")\n",
    "        print(\"1. Add a task\")\n",
    "        print(\"2. Remove a task\")\n",
    "        print(\"3. View tasks\")\n",
    "        print(\"4. Exit\")\n",
    "\n",
    "        choice = input(\"Choose an option (1/2/3/4): \")\n",
    "\n",
    "        if choice == '1':\n",
    "            task = input(\"Enter the task to add: \")\n",
    "            todo.add_task(task)\n",
    "        elif choice == '2':\n",
    "            task = input(\"Enter the task to remove: \")\n",
    "            todo.remove_task(task)\n",
    "        elif choice == '3':\n",
    "            todo.view_tasks()\n",
    "        elif choice == '4':\n",
    "            print(\"Goodbye!\")\n",
    "            break\n",
    "        else:\n",
    "            print(\"Invalid choice. Please try again.\")\n",
    "\n",
    "if __name__ == \"__main__\":\n",
    "    main()"
   ]
  },
  {
   "cell_type": "code",
   "execution_count": null,
   "id": "07e2be0a-6aa5-49c2-a4d0-835a26282430",
   "metadata": {},
   "outputs": [],
   "source": []
  }
 ],
 "metadata": {
  "kernelspec": {
   "display_name": "Python 3 (ipykernel)",
   "language": "python",
   "name": "python3"
  },
  "language_info": {
   "codemirror_mode": {
    "name": "ipython",
    "version": 3
   },
   "file_extension": ".py",
   "mimetype": "text/x-python",
   "name": "python",
   "nbconvert_exporter": "python",
   "pygments_lexer": "ipython3",
   "version": "3.12.7"
  }
 },
 "nbformat": 4,
 "nbformat_minor": 5
}
